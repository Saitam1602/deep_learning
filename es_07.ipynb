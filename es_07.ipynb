{
 "cells": [
  {
   "cell_type": "markdown",
   "metadata": {},
   "source": [
    "# Esercizio\n",
    "\n",
    "### Dati:\n",
    "```python\n",
    "    x = np.arange(0,9,0.3)\n",
    "    y = np.array([1 if val >= 5 else 0 for val in x])\n",
    "```\n",
    "Inizializza b,w  = 0, lambda = 0.01\n",
    "```python\n",
    "    b, w = 0, 0\n",
    "    lmbd = 0.01\n",
    "```\n",
    "Scrivi un ciclo-for di 1000 passi che ad ogni ciclo aggiorna b,w:\n",
    "\n",
    "- Partendo da x<sub>i</sub> calcola z<sub>i</sub> = b + w*x<sub>i</sub> e    a<sub>i</sub> = sigma(z<sub>i</sub>)\n",
    "- Calcola le derivate di b e w:\n",
    "\n",
    "dl/db = sommatoria(a<sub>i</sub> - y<sub>i</sub>)\n",
    "```python\n",
    "np.sum(a-y)\n",
    "```\n",
    "dl/dw ="
   ]
  },
  {
   "cell_type": "code",
   "execution_count": 1,
   "metadata": {},
   "outputs": [],
   "source": [
    "import numpy as np\n",
    "import matplotlib.pyplot as plt"
   ]
  },
  {
   "cell_type": "code",
   "execution_count": 2,
   "metadata": {},
   "outputs": [],
   "source": [
    "x = np.arange(0,9,0.3)\n",
    "y = np.array([1 if val >= 5 else 0 for val in x])\n",
    "b, w = 0, 0\n",
    "lmbd = 0.01\n",
    "iterazioni = 1000\n",
    "c = []"
   ]
  },
  {
   "cell_type": "code",
   "execution_count": 3,
   "metadata": {},
   "outputs": [
    {
     "data": {
      "text/plain": [
       "(-8.788456876300792, 1.8114210522971168)"
      ]
     },
     "execution_count": 3,
     "metadata": {},
     "output_type": "execute_result"
    }
   ],
   "source": [
    "for _ in range(iterazioni):\n",
    "    z = b + w * x\n",
    "    a = 1 / (1  + np.e**-z)\n",
    "    dldb = np.sum(a-y)\n",
    "    dldw = np.dot(x, a-y)\n",
    "    b = b - lmbd * dldb\n",
    "    w = w - lmbd * dldw\n",
    "b,w "
   ]
  },
  {
   "cell_type": "code",
   "execution_count": 4,
   "metadata": {},
   "outputs": [
    {
     "data": {
      "text/plain": [
       "((30,), (30,))"
      ]
     },
     "execution_count": 4,
     "metadata": {},
     "output_type": "execute_result"
    }
   ],
   "source": [
    "a.shape, y.shape"
   ]
  },
  {
   "cell_type": "markdown",
   "metadata": {},
   "source": [
    "# Esercizio 2"
   ]
  },
  {
   "cell_type": "code",
   "execution_count": 5,
   "metadata": {},
   "outputs": [
    {
     "name": "stdout",
     "output_type": "stream",
     "text": [
      "Valore di b :  -8.788456876300792\n",
      "Valore di w :  1.8114210522971168\n"
     ]
    },
    {
     "data": {
      "text/plain": [
       "[<matplotlib.lines.Line2D at 0x1db0baf8b80>]"
      ]
     },
     "execution_count": 5,
     "metadata": {},
     "output_type": "execute_result"
    },
    {
     "data": {
      "image/png": "[encoded data removed]",
      "text/plain": [
       "<Figure size 432x288 with 1 Axes>"
      ]
     },
     "metadata": {
      "needs_background": "light"
     },
     "output_type": "display_data"
    }
   ],
   "source": [
    "c = []\n",
    "x = np.arange(0,9,0.3)\n",
    "y = np.array([1 if val >= 5 else 0 for val in x])\n",
    "b, w = 0, 0\n",
    "lmbd = 0.01\n",
    "for i in range(iterazioni):\n",
    "    z = np.dot(x, w) + b\n",
    "    a = 1/(1 + np.e**(-z))\n",
    "    der_x = np.sum(a-y)\n",
    "    der_y = np.dot(x, a-y)\n",
    "    b = b - lmbd * der_x \n",
    "    w = w - lmbd * der_y\n",
    "    c.append(-(1/len(y))*(np.dot(y, np.log(a))+np.dot((1-y), np.log(1-a))))\n",
    "print(\"Valore di b : \", b)\n",
    "print(\"Valore di w : \", w)\n",
    "plt.plot(c)\n"
   ]
  },
  {
   "cell_type": "markdown",
   "metadata": {},
   "source": [
    "# Esercizio 3\n",
    "### Regressione logistica"
   ]
  },
  {
   "cell_type": "code",
   "execution_count": 6,
   "metadata": {},
   "outputs": [],
   "source": [
    "from sklearn.linear_model import LogisticRegression"
   ]
  },
  {
   "cell_type": "code",
   "execution_count": 7,
   "metadata": {},
   "outputs": [],
   "source": [
    "log_reg = LogisticRegression(max_iter = 1000)\n",
    "x = np.arange(0,9,0.3)\n",
    "y = np.array([1 if val >= 5 else 0 for val in x])"
   ]
  }
 ],
 "metadata": {
  "kernelspec": {
   "display_name": "Python 3.8.8 ('base')",
   "language": "python",
   "name": "python3"
  },
  "language_info": {
   "codemirror_mode": {
    "name": "ipython",
    "version": 3
   },
   "file_extension": ".py",
   "mimetype": "text/x-python",
   "name": "python",
   "nbconvert_exporter": "python",
   "pygments_lexer": "ipython3",
   "version": "3.8.8"
  },
  "orig_nbformat": 4,
  "vscode": {
   "interpreter": {
    "hash": "0c43dbd198ad729ee0d71e8a3525ec1c9cc1cf76b048b5fd033996c8c31caee2"
   }
  }
 },
 "nbformat": 4,
 "nbformat_minor": 2
}
