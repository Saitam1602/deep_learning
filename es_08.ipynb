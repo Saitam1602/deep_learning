{
 "cells": [
  {
   "cell_type": "code",
   "execution_count": 63,
   "metadata": {},
   "outputs": [],
   "source": [
    "import random, time, numpy as np"
   ]
  },
  {
   "cell_type": "code",
   "execution_count": 64,
   "metadata": {},
   "outputs": [],
   "source": [
    "rng = np.random.default_rng(2021)\n",
    "x = rng.random(1000000)\n",
    "w = rng.random(1000000)\n",
    "x = np.array(x)\n",
    "w = np.array(w)"
   ]
  },
  {
   "cell_type": "code",
   "execution_count": 65,
   "metadata": {},
   "outputs": [
    {
     "name": "stdout",
     "output_type": "stream",
     "text": [
      "prima operazione [CICLO FOR]: 0.6749608516693115\n"
     ]
    }
   ],
   "source": [
    "tic = time.time()\n",
    "\n",
    "c = 0\n",
    "for x_,w_ in zip(x,w):\n",
    "    c+= x_ * w_\n",
    "    \n",
    "toc = time.time()\n",
    "print(\"prima operazione [CICLO FOR]:\",toc-tic)"
   ]
  },
  {
   "cell_type": "code",
   "execution_count": 66,
   "metadata": {},
   "outputs": [
    {
     "name": "stdout",
     "output_type": "stream",
     "text": [
      "seconda operazione [NUMPY]: 0.0036954879760742188\n"
     ]
    }
   ],
   "source": [
    "tic = time.time()\n",
    "\n",
    "c = np.dot(x,w)\n",
    "\n",
    "toc = time.time()\n",
    "print(\"seconda operazione [NUMPY]:\",toc-tic)"
   ]
  }
 ],
 "metadata": {
  "kernelspec": {
   "display_name": "Python 3.8.8 ('base')",
   "language": "python",
   "name": "python3"
  },
  "language_info": {
   "codemirror_mode": {
    "name": "ipython",
    "version": 3
   },
   "file_extension": ".py",
   "mimetype": "text/x-python",
   "name": "python",
   "nbconvert_exporter": "python",
   "pygments_lexer": "ipython3",
   "version": "3.8.8"
  },
  "orig_nbformat": 4,
  "vscode": {
   "interpreter": {
    "hash": "0c43dbd198ad729ee0d71e8a3525ec1c9cc1cf76b048b5fd033996c8c31caee2"
   }
  }
 },
 "nbformat": 4,
 "nbformat_minor": 2
}
