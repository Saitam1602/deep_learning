{
 "cells": [
  {
   "cell_type": "markdown",
   "metadata": {},
   "source": [
    "- x = [1,5,2]\n",
    "- w = [1,0,-3]\n",
    "- b = -3\n",
    "- y = 0\n",
    "- dl/dw = ? -> (a-y)*x\n",
    "- dl/db = ? -> (a-y)"
   ]
  },
  {
   "cell_type": "code",
   "execution_count": 29,
   "metadata": {},
   "outputs": [],
   "source": [
    "import numpy as np"
   ]
  },
  {
   "cell_type": "code",
   "execution_count": 30,
   "metadata": {},
   "outputs": [],
   "source": [
    "x = np.array([1,5,2])\n",
    "w = np.array([1,0,-3])\n",
    "y =0\n",
    "b = -3"
   ]
  },
  {
   "cell_type": "code",
   "execution_count": 31,
   "metadata": {},
   "outputs": [],
   "source": [
    "def z_(x,w,b):\n",
    "    c = 0\n",
    "    for X,W in zip(x,w):\n",
    "        c += X*W\n",
    "    # return np.dot(x,w) + b\n",
    "    return c + b"
   ]
  },
  {
   "cell_type": "code",
   "execution_count": 32,
   "metadata": {},
   "outputs": [
    {
     "data": {
      "text/plain": [
       "-8"
      ]
     },
     "execution_count": 32,
     "metadata": {},
     "output_type": "execute_result"
    }
   ],
   "source": [
    "z = z_(x,w,b)\n",
    "z"
   ]
  },
  {
   "cell_type": "code",
   "execution_count": 33,
   "metadata": {},
   "outputs": [],
   "source": [
    "def sigma(z):\n",
    "    return 1/(1+np.e ** -z)"
   ]
  },
  {
   "cell_type": "code",
   "execution_count": 34,
   "metadata": {},
   "outputs": [
    {
     "data": {
      "text/plain": [
       "0.00033535013046647827"
      ]
     },
     "execution_count": 34,
     "metadata": {},
     "output_type": "execute_result"
    }
   ],
   "source": [
    "a = sigma(z)\n",
    "a"
   ]
  },
  {
   "cell_type": "code",
   "execution_count": 35,
   "metadata": {},
   "outputs": [
    {
     "data": {
      "text/plain": [
       "(array([0.00033535, 0.00167675, 0.0006707 ]), 0.00033535013046647827)"
      ]
     },
     "execution_count": 35,
     "metadata": {},
     "output_type": "execute_result"
    }
   ],
   "source": [
    "dw = (a - y) * x\n",
    "db = a - y\n",
    "dw, db"
   ]
  }
 ],
 "metadata": {
  "kernelspec": {
   "display_name": "Python 3.8.8 ('base')",
   "language": "python",
   "name": "python3"
  },
  "language_info": {
   "codemirror_mode": {
    "name": "ipython",
    "version": 3
   },
   "file_extension": ".py",
   "mimetype": "text/x-python",
   "name": "python",
   "nbconvert_exporter": "python",
   "pygments_lexer": "ipython3",
   "version": "3.8.8"
  },
  "orig_nbformat": 4,
  "vscode": {
   "interpreter": {
    "hash": "0c43dbd198ad729ee0d71e8a3525ec1c9cc1cf76b048b5fd033996c8c31caee2"
   }
  }
 },
 "nbformat": 4,
 "nbformat_minor": 2
}
