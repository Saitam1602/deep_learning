{
 "cells": [
  {
   "cell_type": "code",
   "execution_count": 8,
   "metadata": {},
   "outputs": [
    {
     "data": {
      "text/plain": [
       "(array([[ 2, -1, -2,  0],\n",
       "        [ 2,  3,  2, -2]]),\n",
       " array([[-1.5],\n",
       "        [ 0.5]]),\n",
       " array([[0.5, 0.5],\n",
       "        [0.5, 0.5]]))"
      ]
     },
     "execution_count": 8,
     "metadata": {},
     "output_type": "execute_result"
    }
   ],
   "source": [
    "import numpy as np\n",
    "\n",
    "x = np.array([[2,-1,-2,0],[2,3,2,-2]])\n",
    "b = np.array([-1.5,.5]).reshape(-1,1)\n",
    "w = np.array([.5,.5,.5,.5]).reshape(2,2)\n",
    "w2 = np.array([-2.5,3])\n",
    "b2 = -.5\n",
    "x,b,w"
   ]
  },
  {
   "cell_type": "code",
   "execution_count": 9,
   "metadata": {},
   "outputs": [
    {
     "data": {
      "text/plain": [
       "array([[ 0.5, -0.5, -1.5, -2.5],\n",
       "       [ 2.5,  1.5,  0.5, -0.5]])"
      ]
     },
     "execution_count": 9,
     "metadata": {},
     "output_type": "execute_result"
    }
   ],
   "source": [
    "z1 = np.dot(w,x) + b\n",
    "z1"
   ]
  },
  {
   "cell_type": "code",
   "execution_count": 10,
   "metadata": {},
   "outputs": [
    {
     "data": {
      "text/plain": [
       "array([[0.62245933, 0.37754067, 0.18242552, 0.07585818],\n",
       "       [0.92414182, 0.81757448, 0.62245933, 0.37754067]])"
      ]
     },
     "execution_count": 10,
     "metadata": {},
     "output_type": "execute_result"
    }
   ],
   "source": [
    "a1 = 1/(1+np.e**-z1)\n",
    "a1"
   ]
  },
  {
   "cell_type": "code",
   "execution_count": 11,
   "metadata": {},
   "outputs": [
    {
     "data": {
      "text/plain": [
       "array([0.71627713, 1.00887176, 0.91131418, 0.44297656])"
      ]
     },
     "execution_count": 11,
     "metadata": {},
     "output_type": "execute_result"
    }
   ],
   "source": [
    "z2 = np.dot(w2,a1) + b2\n",
    "z2"
   ]
  },
  {
   "cell_type": "code",
   "execution_count": 12,
   "metadata": {},
   "outputs": [
    {
     "data": {
      "text/plain": [
       "array([0.67178669, 0.73279929, 0.71326901, 0.60896806])"
      ]
     },
     "execution_count": 12,
     "metadata": {},
     "output_type": "execute_result"
    }
   ],
   "source": [
    "y =  1/(1+np.e**-z2)\n",
    "y"
   ]
  }
 ],
 "metadata": {
  "kernelspec": {
   "display_name": "Python 3.8.8 ('base')",
   "language": "python",
   "name": "python3"
  },
  "language_info": {
   "codemirror_mode": {
    "name": "ipython",
    "version": 3
   },
   "file_extension": ".py",
   "mimetype": "text/x-python",
   "name": "python",
   "nbconvert_exporter": "python",
   "pygments_lexer": "ipython3",
   "version": "3.8.8"
  },
  "orig_nbformat": 4,
  "vscode": {
   "interpreter": {
    "hash": "0c43dbd198ad729ee0d71e8a3525ec1c9cc1cf76b048b5fd033996c8c31caee2"
   }
  }
 },
 "nbformat": 4,
 "nbformat_minor": 2
}
