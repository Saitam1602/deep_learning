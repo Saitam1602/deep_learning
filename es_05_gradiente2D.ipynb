{
 "cells": [
  {
   "cell_type": "markdown",
   "metadata": {},
   "source": [
    "# Gradiente\n",
    "\n",
    "- Funzione: 2(x-2)^2 + (y+3)^2\n",
    "- x,y: -4,-6\n",
    "- Iterazioni: 100\n",
    "- Derivata: 4(x-2) ||| 2(y+3)\n",
    "- step or lambda: 0.1"
   ]
  },
  {
   "cell_type": "markdown",
   "metadata": {
    "vscode": {
     "languageId": "plaintext"
    }
   },
   "source": [
    "df/dx = 4(x - 2) -> 4(-4 -2)\n",
    "\n",
    "df/dy = 2(y + 3) -> 2(-6 + 3) "
   ]
  },
  {
   "cell_type": "code",
   "execution_count": 54,
   "metadata": {},
   "outputs": [],
   "source": [
    "import numpy as np\n",
    "import matplotlib.pyplot as plt\n",
    "import seaborn as sns"
   ]
  },
  {
   "cell_type": "code",
   "execution_count": 55,
   "metadata": {},
   "outputs": [],
   "source": [
    "step = 0.01\n",
    "x = -4\n",
    "y = -6\n",
    "iterazioni = 100"
   ]
  },
  {
   "cell_type": "code",
   "execution_count": 56,
   "metadata": {},
   "outputs": [],
   "source": [
    "def nuovo_passoX(x, step):\n",
    "    return x - (step) * (4 * (x -2))\n",
    "\n",
    "def nuovo_passoY(y, step):\n",
    "    return y - (step) * (2 * (y +3))"
   ]
  },
  {
   "cell_type": "code",
   "execution_count": 57,
   "metadata": {},
   "outputs": [
    {
     "data": {
      "text/plain": [
       "[-4,\n",
       " -3.76,\n",
       " -3.5296,\n",
       " -3.308416,\n",
       " -3.09607936,\n",
       " -2.8922361856,\n",
       " -2.696546738176,\n",
       " -2.50868486864896,\n",
       " -2.3283374739030016,\n",
       " -2.1552039749468817,\n",
       " -1.9889958159490064,\n",
       " -1.829435983311046,\n",
       " -1.6762585439786042,\n",
       " -1.52920820221946,\n",
       " -1.3880398741306816,\n",
       " -1.2525182791654543,\n",
       " -1.122417547998836,\n",
       " -0.9975208460788827,\n",
       " -0.8776200122357274,\n",
       " -0.7625152117462983,\n",
       " -0.6520146032764464,\n",
       " -0.5459340191453885,\n",
       " -0.444096658379573,\n",
       " -0.3463327920443901,\n",
       " -0.2524794803626145,\n",
       " -0.16238030114810986,\n",
       " -0.07588508910218547,\n",
       " 0.007150314461901952,\n",
       " 0.08686430188342587,\n",
       " 0.16338972980808883,\n",
       " 0.23685414061576526,\n",
       " 0.3073799749911347,\n",
       " 0.37508477599148926,\n",
       " 0.4400813849518297,\n",
       " 0.5024781295537565,\n",
       " 0.5623790043716063,\n",
       " 0.619883844196742,\n",
       " 0.6750884904288723,\n",
       " 0.7280849508117174,\n",
       " 0.7789615527792487,\n",
       " 0.8278030906680788,\n",
       " 0.8746909670413556,\n",
       " 0.9197033283597014,\n",
       " 0.9629151952253133,\n",
       " 1.0043985874163008,\n",
       " 1.0442226439196487,\n",
       " 1.0824537381628627,\n",
       " 1.1191555886363482,\n",
       " 1.1543893650908943,\n",
       " 1.1882137904872585,\n",
       " 1.2206852388677683,\n",
       " 1.2518578293130576,\n",
       " 1.2817835161405353,\n",
       " 1.3105121754949138,\n",
       " 1.3380916884751173,\n",
       " 1.3645680209361126,\n",
       " 1.3899853000986682,\n",
       " 1.4143858880947215,\n",
       " 1.4378104525709328,\n",
       " 1.4602980344680954,\n",
       " 1.4818861130893715,\n",
       " 1.5026106685657965,\n",
       " 1.5225062418231647,\n",
       " 1.541605992150238,\n",
       " 1.5599417524642285,\n",
       " 1.5775440823656595,\n",
       " 1.594442319071033,\n",
       " 1.6106646263081918,\n",
       " 1.6262380412558641,\n",
       " 1.6411885196056295,\n",
       " 1.6555409788214044,\n",
       " 1.6693193396685482,\n",
       " 1.6825465660818062,\n",
       " 1.6952447034385338,\n",
       " 1.7074349153009925,\n",
       " 1.7191375186889528,\n",
       " 1.7303720179413946,\n",
       " 1.7411571372237389,\n",
       " 1.7515108517347893,\n",
       " 1.7614504176653978,\n",
       " 1.7709924009587819,\n",
       " 1.7801527049204307,\n",
       " 1.7889465967236133,\n",
       " 1.7973887328546687,\n",
       " 1.805493183540482,\n",
       " 1.8132734561988626,\n",
       " 1.820742517950908,\n",
       " 1.8279128172328718,\n",
       " 1.834796304543557,\n",
       " 1.8414044523618147,\n",
       " 1.8477482742673421,\n",
       " 1.8538383432966485,\n",
       " 1.8596848095647827,\n",
       " 1.8652974171821914,\n",
       " 1.8706855204949038,\n",
       " 1.8758580996751075,\n",
       " 1.8808237756881032,\n",
       " 1.885590824660579,\n",
       " 1.8901671916741558,\n",
       " 1.8945605040071896,\n",
       " 1.898778083846902]"
      ]
     },
     "execution_count": 57,
     "metadata": {},
     "output_type": "execute_result"
    }
   ],
   "source": [
    "lst_x = [x]\n",
    "for _ in range(iterazioni):\n",
    "    x = nuovo_passoX(x,step)\n",
    "    lst_x.append(x)\n",
    "lst_x"
   ]
  },
  {
   "cell_type": "code",
   "execution_count": 58,
   "metadata": {},
   "outputs": [
    {
     "data": {
      "text/plain": [
       "[-6,\n",
       " -5.94,\n",
       " -5.881200000000001,\n",
       " -5.823576000000001,\n",
       " -5.767104480000001,\n",
       " -5.711762390400001,\n",
       " -5.657527142592001,\n",
       " -5.604376599740161,\n",
       " -5.552289067745358,\n",
       " -5.501243286390451,\n",
       " -5.4512184206626415,\n",
       " -5.4021940522493885,\n",
       " -5.354150171204401,\n",
       " -5.307067167780312,\n",
       " -5.260925824424706,\n",
       " -5.215707307936212,\n",
       " -5.1713931617774875,\n",
       " -5.1279652985419375,\n",
       " -5.085405992571099,\n",
       " -5.043697872719677,\n",
       " -5.002823915265283,\n",
       " -4.962767436959978,\n",
       " -4.923512088220779,\n",
       " -4.885041846456363,\n",
       " -4.847341009527236,\n",
       " -4.810394189336692,\n",
       " -4.774186305549958,\n",
       " -4.738702579438959,\n",
       " -4.70392852785018,\n",
       " -4.669849957293176,\n",
       " -4.636452958147313,\n",
       " -4.6037238989843665,\n",
       " -4.571649421004679,\n",
       " -4.540216432584585,\n",
       " -4.509412103932894,\n",
       " -4.479223861854236,\n",
       " -4.449639384617152,\n",
       " -4.420646596924809,\n",
       " -4.392233664986312,\n",
       " -4.364388991686586,\n",
       " -4.337101211852854,\n",
       " -4.310359187615797,\n",
       " -4.284152003863481,\n",
       " -4.258468963786211,\n",
       " -4.233299584510487,\n",
       " -4.208633592820277,\n",
       " -4.184460920963872,\n",
       " -4.1607717025445945,\n",
       " -4.137556268493703,\n",
       " -4.114805143123829,\n",
       " -4.092509040261352,\n",
       " -4.070658859456125,\n",
       " -4.049245682267002,\n",
       " -4.028260768621662,\n",
       " -4.007695553249229,\n",
       " -3.9875416421842442,\n",
       " -3.9677908093405594,\n",
       " -3.9484349931537484,\n",
       " -3.929466293290673,\n",
       " -3.91087696742486,\n",
       " -3.8926594280763624,\n",
       " -3.874806239514835,\n",
       " -3.8573101147245383,\n",
       " -3.8401639124300475,\n",
       " -3.8233606341814466,\n",
       " -3.8068934214978176,\n",
       " -3.790755553067861,\n",
       " -3.774940442006504,\n",
       " -3.759441633166374,\n",
       " -3.7442528005030464,\n",
       " -3.7293677444929854,\n",
       " -3.7147803896031255,\n",
       " -3.700484781811063,\n",
       " -3.6864750861748417,\n",
       " -3.672745584451345,\n",
       " -3.6592906727623182,\n",
       " -3.646104859307072,\n",
       " -3.6331827621209305,\n",
       " -3.620519106878512,\n",
       " -3.608108724740942,\n",
       " -3.595946550246123,\n",
       " -3.5840276192412004,\n",
       " -3.5723470668563766,\n",
       " -3.560900125519249,\n",
       " -3.5496821230088638,\n",
       " -3.5386884805486867,\n",
       " -3.527914710937713,\n",
       " -3.517356416718959,\n",
       " -3.50700928838458,\n",
       " -3.496869102616888,\n",
       " -3.4869317205645505,\n",
       " -3.4771930861532594,\n",
       " -3.467649224430194,\n",
       " -3.4582962399415904,\n",
       " -3.449130315142759,\n",
       " -3.4401477088399037,\n",
       " -3.4313447546631055,\n",
       " -3.4227178595698433,\n",
       " -3.4142635023784464,\n",
       " -3.4059782323308774,\n",
       " -3.3978586676842597]"
      ]
     },
     "execution_count": 58,
     "metadata": {},
     "output_type": "execute_result"
    }
   ],
   "source": [
    "lst_y = [y]\n",
    "for _ in range(iterazioni):\n",
    "    y = nuovo_passoY(y,step)\n",
    "    lst_y.append(y)\n",
    "lst_y"
   ]
  },
  {
   "cell_type": "code",
   "execution_count": 59,
   "metadata": {},
   "outputs": [
    {
     "data": {
      "text/plain": [
       "[array([722, 656, 594, 536, 482, 432, 386, 344, 306, 272, 242, 216, 194,\n",
       "        176, 162, 152, 146, 144, 146, 152, 162, 176, 194, 216, 242, 272,\n",
       "        306, 344, 386, 432], dtype=int32),\n",
       " array([699, 633, 571, 513, 459, 409, 363, 321, 283, 249, 219, 193, 171,\n",
       "        153, 139, 129, 123, 121, 123, 129, 139, 153, 171, 193, 219, 249,\n",
       "        283, 321, 363, 409], dtype=int32),\n",
       " array([678, 612, 550, 492, 438, 388, 342, 300, 262, 228, 198, 172, 150,\n",
       "        132, 118, 108, 102, 100, 102, 108, 118, 132, 150, 172, 198, 228,\n",
       "        262, 300, 342, 388], dtype=int32),\n",
       " array([659, 593, 531, 473, 419, 369, 323, 281, 243, 209, 179, 153, 131,\n",
       "        113,  99,  89,  83,  81,  83,  89,  99, 113, 131, 153, 179, 209,\n",
       "        243, 281, 323, 369], dtype=int32),\n",
       " array([642, 576, 514, 456, 402, 352, 306, 264, 226, 192, 162, 136, 114,\n",
       "         96,  82,  72,  66,  64,  66,  72,  82,  96, 114, 136, 162, 192,\n",
       "        226, 264, 306, 352], dtype=int32),\n",
       " array([627, 561, 499, 441, 387, 337, 291, 249, 211, 177, 147, 121,  99,\n",
       "         81,  67,  57,  51,  49,  51,  57,  67,  81,  99, 121, 147, 177,\n",
       "        211, 249, 291, 337], dtype=int32),\n",
       " array([614, 548, 486, 428, 374, 324, 278, 236, 198, 164, 134, 108,  86,\n",
       "         68,  54,  44,  38,  36,  38,  44,  54,  68,  86, 108, 134, 164,\n",
       "        198, 236, 278, 324], dtype=int32),\n",
       " array([603, 537, 475, 417, 363, 313, 267, 225, 187, 153, 123,  97,  75,\n",
       "         57,  43,  33,  27,  25,  27,  33,  43,  57,  75,  97, 123, 153,\n",
       "        187, 225, 267, 313], dtype=int32),\n",
       " array([594, 528, 466, 408, 354, 304, 258, 216, 178, 144, 114,  88,  66,\n",
       "         48,  34,  24,  18,  16,  18,  24,  34,  48,  66,  88, 114, 144,\n",
       "        178, 216, 258, 304], dtype=int32),\n",
       " array([587, 521, 459, 401, 347, 297, 251, 209, 171, 137, 107,  81,  59,\n",
       "         41,  27,  17,  11,   9,  11,  17,  27,  41,  59,  81, 107, 137,\n",
       "        171, 209, 251, 297], dtype=int32),\n",
       " array([582, 516, 454, 396, 342, 292, 246, 204, 166, 132, 102,  76,  54,\n",
       "         36,  22,  12,   6,   4,   6,  12,  22,  36,  54,  76, 102, 132,\n",
       "        166, 204, 246, 292], dtype=int32),\n",
       " array([579, 513, 451, 393, 339, 289, 243, 201, 163, 129,  99,  73,  51,\n",
       "         33,  19,   9,   3,   1,   3,   9,  19,  33,  51,  73,  99, 129,\n",
       "        163, 201, 243, 289], dtype=int32),\n",
       " array([578, 512, 450, 392, 338, 288, 242, 200, 162, 128,  98,  72,  50,\n",
       "         32,  18,   8,   2,   0,   2,   8,  18,  32,  50,  72,  98, 128,\n",
       "        162, 200, 242, 288], dtype=int32),\n",
       " array([579, 513, 451, 393, 339, 289, 243, 201, 163, 129,  99,  73,  51,\n",
       "         33,  19,   9,   3,   1,   3,   9,  19,  33,  51,  73,  99, 129,\n",
       "        163, 201, 243, 289], dtype=int32),\n",
       " array([582, 516, 454, 396, 342, 292, 246, 204, 166, 132, 102,  76,  54,\n",
       "         36,  22,  12,   6,   4,   6,  12,  22,  36,  54,  76, 102, 132,\n",
       "        166, 204, 246, 292], dtype=int32),\n",
       " array([587, 521, 459, 401, 347, 297, 251, 209, 171, 137, 107,  81,  59,\n",
       "         41,  27,  17,  11,   9,  11,  17,  27,  41,  59,  81, 107, 137,\n",
       "        171, 209, 251, 297], dtype=int32),\n",
       " array([594, 528, 466, 408, 354, 304, 258, 216, 178, 144, 114,  88,  66,\n",
       "         48,  34,  24,  18,  16,  18,  24,  34,  48,  66,  88, 114, 144,\n",
       "        178, 216, 258, 304], dtype=int32),\n",
       " array([603, 537, 475, 417, 363, 313, 267, 225, 187, 153, 123,  97,  75,\n",
       "         57,  43,  33,  27,  25,  27,  33,  43,  57,  75,  97, 123, 153,\n",
       "        187, 225, 267, 313], dtype=int32),\n",
       " array([614, 548, 486, 428, 374, 324, 278, 236, 198, 164, 134, 108,  86,\n",
       "         68,  54,  44,  38,  36,  38,  44,  54,  68,  86, 108, 134, 164,\n",
       "        198, 236, 278, 324], dtype=int32),\n",
       " array([627, 561, 499, 441, 387, 337, 291, 249, 211, 177, 147, 121,  99,\n",
       "         81,  67,  57,  51,  49,  51,  57,  67,  81,  99, 121, 147, 177,\n",
       "        211, 249, 291, 337], dtype=int32),\n",
       " array([642, 576, 514, 456, 402, 352, 306, 264, 226, 192, 162, 136, 114,\n",
       "         96,  82,  72,  66,  64,  66,  72,  82,  96, 114, 136, 162, 192,\n",
       "        226, 264, 306, 352], dtype=int32),\n",
       " array([659, 593, 531, 473, 419, 369, 323, 281, 243, 209, 179, 153, 131,\n",
       "        113,  99,  89,  83,  81,  83,  89,  99, 113, 131, 153, 179, 209,\n",
       "        243, 281, 323, 369], dtype=int32),\n",
       " array([678, 612, 550, 492, 438, 388, 342, 300, 262, 228, 198, 172, 150,\n",
       "        132, 118, 108, 102, 100, 102, 108, 118, 132, 150, 172, 198, 228,\n",
       "        262, 300, 342, 388], dtype=int32),\n",
       " array([699, 633, 571, 513, 459, 409, 363, 321, 283, 249, 219, 193, 171,\n",
       "        153, 139, 129, 123, 121, 123, 129, 139, 153, 171, 193, 219, 249,\n",
       "        283, 321, 363, 409], dtype=int32),\n",
       " array([722, 656, 594, 536, 482, 432, 386, 344, 306, 272, 242, 216, 194,\n",
       "        176, 162, 152, 146, 144, 146, 152, 162, 176, 194, 216, 242, 272,\n",
       "        306, 344, 386, 432], dtype=int32),\n",
       " array([747, 681, 619, 561, 507, 457, 411, 369, 331, 297, 267, 241, 219,\n",
       "        201, 187, 177, 171, 169, 171, 177, 187, 201, 219, 241, 267, 297,\n",
       "        331, 369, 411, 457], dtype=int32),\n",
       " array([774, 708, 646, 588, 534, 484, 438, 396, 358, 324, 294, 268, 246,\n",
       "        228, 214, 204, 198, 196, 198, 204, 214, 228, 246, 268, 294, 324,\n",
       "        358, 396, 438, 484], dtype=int32),\n",
       " array([803, 737, 675, 617, 563, 513, 467, 425, 387, 353, 323, 297, 275,\n",
       "        257, 243, 233, 227, 225, 227, 233, 243, 257, 275, 297, 323, 353,\n",
       "        387, 425, 467, 513], dtype=int32),\n",
       " array([834, 768, 706, 648, 594, 544, 498, 456, 418, 384, 354, 328, 306,\n",
       "        288, 274, 264, 258, 256, 258, 264, 274, 288, 306, 328, 354, 384,\n",
       "        418, 456, 498, 544], dtype=int32),\n",
       " array([867, 801, 739, 681, 627, 577, 531, 489, 451, 417, 387, 361, 339,\n",
       "        321, 307, 297, 291, 289, 291, 297, 307, 321, 339, 361, 387, 417,\n",
       "        451, 489, 531, 577], dtype=int32)]"
      ]
     },
     "execution_count": 59,
     "metadata": {},
     "output_type": "execute_result"
    }
   ],
   "source": [
    "X = np.arange(-15,15)\n",
    "Y = np.arange(-15,15)\n",
    "X,Y = np.meshgrid(X,Y)\n",
    "lst_z = []\n",
    "for x,y in zip(X,Y):\n",
    "    lst_z.append(2 * (x-2)**2 + (y + 3)**2)\n",
    "lst_z"
   ]
  },
  {
   "cell_type": "code",
   "execution_count": 60,
   "metadata": {},
   "outputs": [],
   "source": [
    "lst_x = np.array(lst_x)\n",
    "lst_y = np.array(lst_y)\n",
    "lst_z = np.array(lst_z)\n"
   ]
  },
  {
   "cell_type": "code",
   "execution_count": null,
   "metadata": {},
   "outputs": [],
   "source": []
  },
  {
   "cell_type": "code",
   "execution_count": 61,
   "metadata": {},
   "outputs": [
    {
     "data": {
      "text/plain": [
       "<matplotlib.collections.PathCollection at 0x28748fabee0>"
      ]
     },
     "execution_count": 61,
     "metadata": {},
     "output_type": "execute_result"
    },
    {
     "data": {
      "image/png": "[encoded data removed]",
      "text/plain": [
       "<Figure size 432x288 with 1 Axes>"
      ]
     },
     "metadata": {
      "needs_background": "light"
     },
     "output_type": "display_data"
    }
   ],
   "source": [
    "plt.scatter(lst_x, lst_y)"
   ]
  },
  {
   "cell_type": "code",
   "execution_count": 64,
   "metadata": {},
   "outputs": [
    {
     "data": {
      "text/plain": [
       "<matplotlib.collections.PathCollection at 0x28749178ca0>"
      ]
     },
     "execution_count": 64,
     "metadata": {},
     "output_type": "execute_result"
    },
    {
     "data": {
      "image/png": "[encoded data removed]",
      "text/plain": [
       "<Figure size 432x288 with 1 Axes>"
      ]
     },
     "metadata": {
      "needs_background": "light"
     },
     "output_type": "display_data"
    }
   ],
   "source": [
    "plt.contourf(X, Y, lst_z, levels=100)\n",
    "plt.scatter(lst_x, lst_y, c=\"r\")"
   ]
  }
 ],
 "metadata": {
  "kernelspec": {
   "display_name": "Python 3.8.8 ('base')",
   "language": "python",
   "name": "python3"
  },
  "language_info": {
   "codemirror_mode": {
    "name": "ipython",
    "version": 3
   },
   "file_extension": ".py",
   "mimetype": "text/x-python",
   "name": "python",
   "nbconvert_exporter": "python",
   "pygments_lexer": "ipython3",
   "version": "3.8.8"
  },
  "orig_nbformat": 4,
  "vscode": {
   "interpreter": {
    "hash": "0c43dbd198ad729ee0d71e8a3525ec1c9cc1cf76b048b5fd033996c8c31caee2"
   }
  }
 },
 "nbformat": 4,
 "nbformat_minor": 2
}
